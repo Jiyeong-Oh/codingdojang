{
 "cells": [
  {
   "cell_type": "code",
   "execution_count": 13,
   "metadata": {},
   "outputs": [
    {
     "name": "stdout",
     "output_type": "stream",
     "text": [
      "3\n",
      "   *\n",
      "  ***\n",
      " *****\n"
     ]
    }
   ],
   "source": [
    "line=int(input())\n",
    "for i in range(line):\n",
    "    star= 2*(i+1)-1\n",
    "    blank= line-i\n",
    "    print(\" \"*blank +\"*\"*star+\" \")"
   ]
  },
  {
   "cell_type": "code",
   "execution_count": 21,
   "metadata": {},
   "outputs": [
    {
     "name": "stdout",
     "output_type": "stream",
     "text": [
      "35\n",
      "40\n"
     ]
    }
   ],
   "source": [
    "\n",
    "num1, num2= input().split()\n",
    "num1=int(num1)\n",
    "num2=int(num2)"
   ]
  },
  {
   "cell_type": "code",
   "execution_count": 23,
   "metadata": {},
   "outputs": [
    {
     "name": "stdout",
     "output_type": "stream",
     "text": [
      "FizzBuzz\n",
      "36\n",
      "37\n",
      "38\n",
      "39\n",
      "Fizz\n"
     ]
    }
   ],
   "source": [
    "num1, num2= input().split()\n",
    "num1=int(num1)\n",
    "num2=int(num2)\n",
    "for i in range(num1,num2+1):\n",
    "    if i%5==0 and i%7==0:\n",
    "        print(\"FizzBuzz\")\n",
    "    elif i%5==0 and i%7!=0:\n",
    "        print(\"Fizz\")\n",
    "    elif i%5!=0 and i%7==0:\n",
    "        print(\"Buzz\")    \n",
    "    else:\n",
    "        print(i)"
   ]
  }
 ],
 "metadata": {
  "kernelspec": {
   "display_name": "Python 3",
   "language": "python",
   "name": "python3"
  },
  "language_info": {
   "codemirror_mode": {
    "name": "ipython",
    "version": 3
   },
   "file_extension": ".py",
   "mimetype": "text/x-python",
   "name": "python",
   "nbconvert_exporter": "python",
   "pygments_lexer": "ipython3",
   "version": "3.8.5"
  }
 },
 "nbformat": 4,
 "nbformat_minor": 4
}
